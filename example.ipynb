{
 "cells": [
  {
   "cell_type": "code",
   "execution_count": 1,
   "id": "5db04062",
   "metadata": {},
   "outputs": [
    {
     "name": "stdout",
     "output_type": "stream",
     "text": [
      "LP answer: 2.7082837724998536\n",
      "time:0.02400064468383789seconds\n",
      "scipy answer: 2.708283772499854\n",
      "time:0.0006697177886962891seconds\n"
     ]
    },
    {
     "data": {
      "text/plain": [
       "0"
      ]
     },
     "execution_count": 1,
     "metadata": {},
     "output_type": "execute_result"
    }
   ],
   "source": [
    "from wasserstein import *\n",
    "def run_test(m, n, l):\n",
    "    \n",
    "    sample_u = mixedGaussian(mu1 = 1, mu2 = 10, sigma1 = 2, sigma2 = 1.5, n = m).reshape(m, 1)\n",
    "    sample_v = np.random.gamma(7, scale = 1, size = n).reshape(n, 1)\n",
    "    wass_nd(sample_u, sample_v)\n",
    "    scipy_wass(sample_u, sample_v)\n",
    "    return 0"
   ]
  },
  {
   "cell_type": "code",
   "execution_count": 2,
   "id": "20d26240",
   "metadata": {},
   "outputs": [
    {
     "name": "stdout",
     "output_type": "stream",
     "text": [
      "LP answer: 3.127734440556185\n",
      "time:0.002620220184326172seconds\n",
      "scipy answer: 3.1277344405561855\n",
      "time:0.0003685951232910156seconds\n"
     ]
    },
    {
     "data": {
      "text/plain": [
       "0"
      ]
     },
     "execution_count": 2,
     "metadata": {},
     "output_type": "execute_result"
    }
   ],
   "source": [
    "run_test(5, 5, 1)"
   ]
  },
  {
   "cell_type": "code",
   "execution_count": 3,
   "id": "61eb1241",
   "metadata": {},
   "outputs": [
    {
     "name": "stdout",
     "output_type": "stream",
     "text": [
      "LP answer: 2.9717691791261536\n",
      "time:0.018033266067504883seconds\n",
      "scipy answer: 2.9717691791261536\n",
      "time:0.00025463104248046875seconds\n"
     ]
    },
    {
     "data": {
      "text/plain": [
       "0"
      ]
     },
     "execution_count": 3,
     "metadata": {},
     "output_type": "execute_result"
    }
   ],
   "source": [
    "run_test(100, 20, 1)"
   ]
  },
  {
   "cell_type": "code",
   "execution_count": 4,
   "id": "f1318124",
   "metadata": {},
   "outputs": [
    {
     "name": "stdout",
     "output_type": "stream",
     "text": [
      "LP answer: 2.4149795625140547\n",
      "time:14.36797046661377seconds\n",
      "scipy answer: 2.4149795625140547\n",
      "time:0.0005946159362792969seconds\n"
     ]
    },
    {
     "data": {
      "text/plain": [
       "0"
      ]
     },
     "execution_count": 4,
     "metadata": {},
     "output_type": "execute_result"
    }
   ],
   "source": [
    "run_test(500, 500, 1)"
   ]
  },
  {
   "cell_type": "code",
   "execution_count": null,
   "id": "f8d549b9",
   "metadata": {},
   "outputs": [],
   "source": []
  }
 ],
 "metadata": {
  "kernelspec": {
   "display_name": "Python 3 (ipykernel)",
   "language": "python",
   "name": "python3"
  },
  "language_info": {
   "codemirror_mode": {
    "name": "ipython",
    "version": 3
   },
   "file_extension": ".py",
   "mimetype": "text/x-python",
   "name": "python",
   "nbconvert_exporter": "python",
   "pygments_lexer": "ipython3",
   "version": "3.9.12"
  }
 },
 "nbformat": 4,
 "nbformat_minor": 5
}
