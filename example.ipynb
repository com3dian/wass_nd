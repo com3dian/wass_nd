{
 "cells": [
  {
   "cell_type": "code",
   "execution_count": 1,
   "id": "5db04062",
   "metadata": {},
   "outputs": [],
   "source": [
    "import numpy as np\n",
    "import scipy\n",
    "\n",
    "from sinkhorn import wass_naive_sinkhorn\n",
    "from wasserstein_LP import wass_nd\n",
    "from test_utils import *\n",
    "\n",
    "def run_test(m, n, l):\n",
    "    \n",
    "    sample_u = mixedGaussian(mu1 = 1, mu2 = 10, sigma1 = 2, sigma2 = 1.5, n = m).reshape(m, 1)\n",
    "    sample_v = np.random.gamma(7, scale = 1, size = n).reshape(n, 1)\n",
    "    wass_nd(sample_u, sample_v)\n",
    "    scipy_wass(sample_u, sample_v)\n",
    "    wass_naive_sinkhorn(sample_u, sample_v, epsilon = 0.05, precision = 1e-6)\n",
    "    \n",
    "    return 0"
   ]
  },
  {
   "cell_type": "code",
   "execution_count": 2,
   "id": "20d26240",
   "metadata": {},
   "outputs": [
    {
     "name": "stdout",
     "output_type": "stream",
     "text": [
      "LP answer: 4.516690484872157\n",
      "time:0.011721372604370117seconds\n",
      "scipy answer: 4.516690484872157\n",
      "time:0.0016205310821533203seconds\n",
      "sinkhorn answer:  4.516843649886782\n",
      "time:0.0031266212463378906seconds\n"
     ]
    },
    {
     "data": {
      "text/plain": [
       "0"
      ]
     },
     "execution_count": 2,
     "metadata": {},
     "output_type": "execute_result"
    }
   ],
   "source": [
    "run_test(5, 5, 1)"
   ]
  },
  {
   "cell_type": "code",
   "execution_count": 3,
   "id": "61eb1241",
   "metadata": {},
   "outputs": [
    {
     "name": "stdout",
     "output_type": "stream",
     "text": [
      "LP answer: 2.3039296325639125\n",
      "time:0.017405033111572266seconds\n",
      "scipy answer: 2.3039296325639125\n",
      "time:0.000110626220703125seconds\n",
      "sinkhorn answer:  2.2120968367971905\n",
      "time:0.00797581672668457seconds\n"
     ]
    },
    {
     "data": {
      "text/plain": [
       "0"
      ]
     },
     "execution_count": 3,
     "metadata": {},
     "output_type": "execute_result"
    }
   ],
   "source": [
    "run_test(100, 20, 1)"
   ]
  },
  {
   "cell_type": "code",
   "execution_count": 4,
   "id": "f1318124",
   "metadata": {},
   "outputs": [
    {
     "name": "stdout",
     "output_type": "stream",
     "text": [
      "LP answer: 2.5982240810805837\n",
      "time:5.854470729827881seconds\n",
      "scipy answer: 2.5982240810805837\n",
      "time:0.0002334117889404297seconds\n",
      "sinkhorn answer:  2.5825673067867725\n",
      "time:0.9867568016052246seconds\n"
     ]
    },
    {
     "data": {
      "text/plain": [
       "0"
      ]
     },
     "execution_count": 4,
     "metadata": {},
     "output_type": "execute_result"
    }
   ],
   "source": [
    "run_test(500, 500, 1)"
   ]
  },
  {
   "cell_type": "code",
   "execution_count": 5,
   "id": "f8d549b9",
   "metadata": {},
   "outputs": [
    {
     "name": "stdout",
     "output_type": "stream",
     "text": [
      "LP answer: 2.5596893274297363\n",
      "time:62.7194242477417seconds\n",
      "scipy answer: 2.5596893274297368\n",
      "time:0.0003719329833984375seconds\n",
      "sinkhorn answer:  2.546683907929162\n",
      "time:9.868037939071655seconds\n"
     ]
    },
    {
     "data": {
      "text/plain": [
       "0"
      ]
     },
     "execution_count": 5,
     "metadata": {},
     "output_type": "execute_result"
    }
   ],
   "source": [
    "run_test(1000, 1000, 1)"
   ]
  },
  {
   "cell_type": "code",
   "execution_count": null,
   "id": "2a588a59",
   "metadata": {},
   "outputs": [],
   "source": []
  }
 ],
 "metadata": {
  "kernelspec": {
   "display_name": "Python 3 (ipykernel)",
   "language": "python",
   "name": "python3"
  },
  "language_info": {
   "codemirror_mode": {
    "name": "ipython",
    "version": 3
   },
   "file_extension": ".py",
   "mimetype": "text/x-python",
   "name": "python",
   "nbconvert_exporter": "python",
   "pygments_lexer": "ipython3",
   "version": "3.9.12"
  }
 },
 "nbformat": 4,
 "nbformat_minor": 5
}
